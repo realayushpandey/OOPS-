{
 "cells": [
  {
   "cell_type": "markdown",
   "id": "fe4fae6c-7ccb-4dc0-a974-e6aafb73d77f",
   "metadata": {},
   "source": [
    "ASSIGNMENT ON OOPS"
   ]
  },
  {
   "cell_type": "markdown",
   "id": "0e7bf5bb-1378-4942-8c3b-adb5d09feecd",
   "metadata": {},
   "source": [
    "# 1. Explain the importance of Functions.\n",
    "\n",
    "Ans - Functions are important for several \n",
    "1. Simplifying Tasks, 2. Keeping things Organized. 3.Reusability 4. Collaboration"
   ]
  },
  {
   "cell_type": "code",
   "execution_count": 91,
   "id": "f47149f5-3f8d-4ffb-bba7-2bb20e97759a",
   "metadata": {},
   "outputs": [
    {
     "name": "stdout",
     "output_type": "stream",
     "text": [
      "Hello Students\n"
     ]
    }
   ],
   "source": [
    "# 2. Write a basic function to greet students.\n",
    "\n",
    "def greetings():\n",
    "    print(\"Hello Students\")\n",
    "greetings()"
   ]
  },
  {
   "cell_type": "markdown",
   "id": "05f8c9df-70ca-4c7a-b6c0-c50ace5efe51",
   "metadata": {},
   "source": [
    "# 3. What is the difference between print and return statements?\n",
    "\n",
    " Ans- Use print when you want to show a value to a human return is a keyword.\n",
    " Use return when you want to send a value from one point in your code to another, in return statement the output is in tuple"
   ]
  },
  {
   "cell_type": "markdown",
   "id": "0ec7c44a-0613-4bbf-aad8-df4334d89a89",
   "metadata": {},
   "source": [
    "# 4. What are *args and **kwargs?\n",
    "\n",
    "*args(Arbitrary Arguments)-\n",
    "It allows a function to accept any number of positional arguments.\n",
    "The arguments passed with *args are treated as a tuple.\n",
    "\n",
    "**kwargs(Keyword Arguments)-\n",
    "It allows a function to accept any number of keyword arguments.\n",
    "The Arguments passed with **kwargs are treated as a dictionary."
   ]
  },
  {
   "cell_type": "markdown",
   "id": "0565abc6-c67f-40c0-87d1-e77df91d1239",
   "metadata": {},
   "source": [
    "# 5. Explain the iterator function.\n",
    "\n",
    "Ans- Iterator Function in python ia an object that is used to iterate over iterable objects like lists, tuples, dicts, and sets. The iterator object is initialized using the iter() method. it uses the next() method for iteration."
   ]
  },
  {
   "cell_type": "code",
   "execution_count": 92,
   "id": "697fa92b-10ac-460c-b497-88ce4e744bae",
   "metadata": {},
   "outputs": [
    {
     "name": "stdout",
     "output_type": "stream",
     "text": [
      "1\n",
      "4\n",
      "9\n",
      "16\n",
      "25\n"
     ]
    }
   ],
   "source": [
    "# 6. Write a code that generates the squares of numbers from 1 to n using a generator.\n",
    "\n",
    "def square_generator(n):\n",
    "    for i in range(1, n+1):\n",
    "        yield i*i\n",
    "n = 5\n",
    "squares = square_generator(n)\n",
    "for square in squares:\n",
    "    print(square)"
   ]
  },
  {
   "cell_type": "code",
   "execution_count": 93,
   "id": "074d94b9-5d2c-4a6a-94a4-3e760302b54a",
   "metadata": {},
   "outputs": [
    {
     "name": "stdout",
     "output_type": "stream",
     "text": [
      "1\n",
      "2\n",
      "3\n",
      "4\n",
      "5\n",
      "6\n",
      "7\n",
      "8\n",
      "9\n",
      "11\n",
      "22\n",
      "33\n",
      "44\n",
      "55\n",
      "66\n",
      "77\n",
      "88\n",
      "99\n"
     ]
    }
   ],
   "source": [
    "# 7. Write a code that generates palindromic numbers up to n using a generator.\n",
    "\n",
    "def is_palindrome(num):\n",
    "    return str(num) == str(num)[::-1]\n",
    "\n",
    "def palindromic_number_generator(n):\n",
    "    for num in range(1, n+1):\n",
    "        if is_palindrome(num):\n",
    "            yield num\n",
    "n = 100\n",
    "palindromes = palindromic_number_generator(n)\n",
    "for palindrome in palindromes:\n",
    "    print(palindrome)"
   ]
  },
  {
   "cell_type": "code",
   "execution_count": 94,
   "id": "1d237345-80cc-4d8a-92dc-1348ec48a0e8",
   "metadata": {},
   "outputs": [
    {
     "name": "stdout",
     "output_type": "stream",
     "text": [
      "2\n",
      "4\n",
      "6\n",
      "8\n",
      "10\n",
      "12\n",
      "14\n",
      "16\n",
      "18\n",
      "20\n"
     ]
    }
   ],
   "source": [
    "# 8. Write a code that generates even numbers from 2 to n using a generator.\n",
    "\n",
    "def even_number_generator(n):\n",
    "    for num in range(2, n+1, 2):\n",
    "        yield num\n",
    "n = 20\n",
    "even_numbers = even_number_generator(n)\n",
    "for even_number in even_numbers:\n",
    "    print(even_number)"
   ]
  },
  {
   "cell_type": "code",
   "execution_count": 95,
   "id": "1451854c-4e1e-45a4-9fef-9c881533a76d",
   "metadata": {},
   "outputs": [
    {
     "name": "stdout",
     "output_type": "stream",
     "text": [
      "1\n",
      "2\n",
      "4\n",
      "8\n",
      "16\n",
      "32\n",
      "64\n"
     ]
    }
   ],
   "source": [
    "# 9. Write a code that generates powers of two up to n using a generator.\n",
    "\n",
    "def powers_of_two_generator(n):\n",
    "    power = 1\n",
    "    while power <= n:\n",
    "        yield power\n",
    "        power *= 2\n",
    "n = 100\n",
    "powers_of_two = powers_of_two_generator(n)\n",
    "for power in powers_of_two:\n",
    "    print(power)"
   ]
  },
  {
   "cell_type": "code",
   "execution_count": 96,
   "id": "f05de0e9-535b-407b-a4ff-f4915de90df1",
   "metadata": {},
   "outputs": [
    {
     "name": "stdout",
     "output_type": "stream",
     "text": [
      "2\n",
      "3\n",
      "5\n",
      "7\n",
      "11\n",
      "13\n",
      "17\n",
      "19\n",
      "23\n",
      "29\n",
      "31\n",
      "37\n",
      "41\n",
      "43\n",
      "47\n"
     ]
    }
   ],
   "source": [
    "# 10. Write a code that generates prime numbers up to n using a generator.\n",
    "\n",
    "def is_prime(num):\n",
    "    if num <= 1:\n",
    "        return False\n",
    "    for i in range(2, int(num**0.5) + 1):\n",
    "        if num % i == 0:\n",
    "            return False\n",
    "    return True\n",
    "def prime_generator(n):\n",
    "    for num in range(2, n+1):\n",
    "        if is_prime(num):\n",
    "            yield num\n",
    "n = 50\n",
    "prime_numbers = prime_generator(n)\n",
    "for prime in prime_numbers:\n",
    "    print(prime)"
   ]
  },
  {
   "cell_type": "code",
   "execution_count": 97,
   "id": "4f085f7b-5d78-4bf4-b6de-af35a8ef4f3d",
   "metadata": {},
   "outputs": [
    {
     "name": "stdout",
     "output_type": "stream",
     "text": [
      "31\n"
     ]
    }
   ],
   "source": [
    "# 11. Write a code that uses a lambda function to calculate the sum of two numbers.\n",
    "\n",
    "add = lambda x, y: x+y\n",
    "result = add(10,21)\n",
    "print(result)"
   ]
  },
  {
   "cell_type": "code",
   "execution_count": 98,
   "id": "b6c126aa-cccc-4011-98da-ccb3d54faed2",
   "metadata": {},
   "outputs": [
    {
     "name": "stdout",
     "output_type": "stream",
     "text": [
      "49\n"
     ]
    }
   ],
   "source": [
    "# 12. Write a code that uses a lambda function to calculate the square of a given number.\n",
    "\n",
    "square = lambda x: x**2\n",
    "result = square(7)\n",
    "print(result)"
   ]
  },
  {
   "cell_type": "code",
   "execution_count": 99,
   "id": "52fb9070-1ce6-4e6b-ada3-56825f7bfbf8",
   "metadata": {},
   "outputs": [
    {
     "name": "stdout",
     "output_type": "stream",
     "text": [
      "True\n"
     ]
    }
   ],
   "source": [
    "# 13. Write a code that uses a lambda function to check whether a given number is even or odd.\n",
    "\n",
    "is_even_or_odd = lambda x: x % 2 == 0\n",
    "print(is_even_or_odd(24))"
   ]
  },
  {
   "cell_type": "code",
   "execution_count": 100,
   "id": "ca87bcfe-7052-449e-93c0-4f711115bc43",
   "metadata": {},
   "outputs": [
    {
     "name": "stdout",
     "output_type": "stream",
     "text": [
      "False\n"
     ]
    }
   ],
   "source": [
    "is_even_or_odd = lambda x: x % 2 == 0\n",
    "print(is_even_or_odd(17))"
   ]
  },
  {
   "cell_type": "code",
   "execution_count": 101,
   "id": "53354094-e0cf-4430-90fe-5e73b4dcfa56",
   "metadata": {},
   "outputs": [
    {
     "name": "stdout",
     "output_type": "stream",
     "text": [
      "Hello, Data Science Students\n"
     ]
    }
   ],
   "source": [
    "# 15. Write a code that uses a lambda function to concatenate two strings.\n",
    "\n",
    "concatenate_strings = lambda str1, str2: str1 + str2\n",
    "\n",
    "string1 = \"Hello, \"\n",
    "string2 = \"Data Science Students\"\n",
    "result = concatenate_strings(string1, string2)\n",
    "print(result)"
   ]
  },
  {
   "cell_type": "code",
   "execution_count": 102,
   "id": "e3e535cd-8f60-4bca-bc54-3a4d9252ce93",
   "metadata": {},
   "outputs": [
    {
     "name": "stdout",
     "output_type": "stream",
     "text": [
      "Maximum number: 25\n"
     ]
    }
   ],
   "source": [
    "# 16. Write a code that uses a lambda function to find the maximum of three given numbers.\n",
    "\n",
    "find_max = lambda x, y, z: max(x, y, z)\n",
    "num1 = 10\n",
    "num2 = 25\n",
    "num3 = 15\n",
    "maximum = find_max(num1, num2, num3)\n",
    "print(\"Maximum number:\", maximum)"
   ]
  },
  {
   "cell_type": "code",
   "execution_count": 103,
   "id": "5e3d3b5a-3458-4899-bc1c-bfa9b5f4d491",
   "metadata": {},
   "outputs": [
    {
     "name": "stdout",
     "output_type": "stream",
     "text": [
      "4\n",
      "16\n",
      "36\n",
      "64\n",
      "100\n"
     ]
    }
   ],
   "source": [
    "# 17. Write a code that generates the squares of even numbers from a given list.\n",
    "\n",
    "def square_of_even_numbers(numbers):\n",
    "    for num in numbers:\n",
    "        if num % 2 == 0:\n",
    "            yield num ** 2\n",
    "num_list = [1, 2, 3, 4, 5, 6, 7, 8, 9, 10]\n",
    "squares_of_even = square_of_even_numbers(num_list)\n",
    "for square in squares_of_even:\n",
    "    print(square)"
   ]
  },
  {
   "cell_type": "code",
   "execution_count": 104,
   "id": "578bc69c-a545-4a07-8c4d-2ea92ab5bc1d",
   "metadata": {},
   "outputs": [
    {
     "name": "stdout",
     "output_type": "stream",
     "text": [
      "Product of positive numbers: 22400\n"
     ]
    }
   ],
   "source": [
    "# 18. Write a code that calculates the product of positive numbers from a given list.\n",
    "\n",
    "def product_of_positive_numbers(numbers):\n",
    "    product = 1\n",
    "    for num in numbers:\n",
    "        if num > 0:\n",
    "            product *= num\n",
    "    return product\n",
    "num_list = [1, 2, -3, 4, 5, -6, 7, 8, -9, 10]\n",
    "result = product_of_positive_numbers(num_list)\n",
    "print(\"Product of positive numbers:\", result)"
   ]
  },
  {
   "cell_type": "code",
   "execution_count": 105,
   "id": "45851198-dc22-4bc1-9430-f3d327305ff4",
   "metadata": {},
   "outputs": [
    {
     "name": "stdout",
     "output_type": "stream",
     "text": [
      "Doubled odd numbers: [2, 2, 6, 4, 10, 6, 14, 8, 18, 10]\n"
     ]
    }
   ],
   "source": [
    "# 19. Write a code that doubles the values of odd numbers from a given list.\n",
    "\n",
    "def double_odd_numbers(numbers):\n",
    "    result = []\n",
    "    for num in numbers:\n",
    "        if num % 2 != 0:\n",
    "            result.append(num * 2)\n",
    "        else:\n",
    "            result.append(num)\n",
    "    return result\n",
    "num_list = [1, 2, 3, 4, 5, 6, 7, 8, 9, 10]\n",
    "doubled_odd_numbers = double_odd_numbers(num_list)\n",
    "print(\"Doubled odd numbers:\", doubled_odd_numbers)"
   ]
  },
  {
   "cell_type": "code",
   "execution_count": 106,
   "id": "2a76298b-88d2-4a5c-ae8a-4fab2e1ac830",
   "metadata": {},
   "outputs": [
    {
     "name": "stdout",
     "output_type": "stream",
     "text": [
      "The sum of cubes of [1, 2, 3, 4] is 100\n"
     ]
    }
   ],
   "source": [
    "# 20. Write a code that calculates the sum of cubes of numbers from a given list.\n",
    "\n",
    "def sum_of_cubes(numbers):\n",
    "    return sum(x**3 for x in numbers)\n",
    "numbers = [1, 2, 3, 4]\n",
    "result = sum_of_cubes(numbers)\n",
    "print(f\"The sum of cubes of {numbers} is {result}\")"
   ]
  },
  {
   "cell_type": "code",
   "execution_count": 107,
   "id": "0321acea-3aea-43a1-b010-c8e676f6888a",
   "metadata": {},
   "outputs": [
    {
     "name": "stdout",
     "output_type": "stream",
     "text": [
      "Original list: [2, 3, 4, 5, 6, 7, 8, 9, 10]\n",
      "Filtered list (non-prime numbers): [4, 6, 8, 9, 10]\n"
     ]
    }
   ],
   "source": [
    "# 21. Write a code that filters out prime numbers from a given list.\n",
    "\n",
    "def is_prime(n):\n",
    "    if n <= 1:\n",
    "        return False\n",
    "    if n == 2:\n",
    "        return True\n",
    "    if n % 2 == 0:\n",
    "        return False\n",
    "    max_divisor = int(n**0.5) + 1\n",
    "    for d in range(3, max_divisor, 2):\n",
    "        if n % d == 0:\n",
    "            return False\n",
    "    return True\n",
    "\n",
    "def filter_primes(numbers):\n",
    "    return [x for x in numbers if not is_prime(x)]\n",
    "numbers = [2, 3, 4, 5, 6, 7, 8, 9, 10]\n",
    "filtered_numbers = filter_primes(numbers)\n",
    "print(f\"Original list: {numbers}\")\n",
    "print(f\"Filtered list (non-prime numbers): {filtered_numbers}\")"
   ]
  },
  {
   "cell_type": "code",
   "execution_count": 108,
   "id": "f8369064-e9c5-4d6f-bab4-57221fea1a23",
   "metadata": {},
   "outputs": [
    {
     "name": "stdout",
     "output_type": "stream",
     "text": [
      "66\n"
     ]
    }
   ],
   "source": [
    "# 22. Write a code that uses a lambda function to calculate the sum of two numbers.\n",
    "\n",
    "add = lambda x, y: x+y\n",
    "result = add(25,41)\n",
    "print(result)"
   ]
  },
  {
   "cell_type": "code",
   "execution_count": 109,
   "id": "b5b43a18-18bb-49a3-acb5-07c5a334d368",
   "metadata": {},
   "outputs": [
    {
     "name": "stdout",
     "output_type": "stream",
     "text": [
      "625\n"
     ]
    }
   ],
   "source": [
    "# 23. Write a code that uses a lambda function to calculate the square of given numbers.\n",
    "\n",
    "square = lambda x: x**2\n",
    "result = square(25)\n",
    "print(result)"
   ]
  },
  {
   "cell_type": "code",
   "execution_count": 110,
   "id": "5f0937bc-4df7-4204-8989-48bcfdd47500",
   "metadata": {},
   "outputs": [
    {
     "name": "stdout",
     "output_type": "stream",
     "text": [
      "False\n"
     ]
    }
   ],
   "source": [
    "# 24. Write a code that uses a lambda function to check whether a given number is even or odd.\n",
    "\n",
    "is_even_or_odd = lambda x: x % 2 == 0\n",
    "print(is_even_or_odd(41))"
   ]
  },
  {
   "cell_type": "code",
   "execution_count": 111,
   "id": "d70e0b71-f5e7-4d2a-a535-f09c9a616704",
   "metadata": {},
   "outputs": [
    {
     "name": "stdout",
     "output_type": "stream",
     "text": [
      "Hey Guys, I am Ayush Pandey\n"
     ]
    }
   ],
   "source": [
    "# 25. Write a code that uses a lambda function to concatenate two strings.\n",
    "\n",
    "concatenate_strings = lambda str1, str2: str1 + str2\n",
    "\n",
    "string1 = \"Hey Guys, \"\n",
    "string2 = \"I am Ayush Pandey\"\n",
    "result = concatenate_strings(string1, string2)\n",
    "print(result)"
   ]
  },
  {
   "cell_type": "code",
   "execution_count": 112,
   "id": "d70d9f1f-6322-45c7-af2d-76defb8a2925",
   "metadata": {},
   "outputs": [
    {
     "name": "stdout",
     "output_type": "stream",
     "text": [
      "Maximum number: 51\n"
     ]
    }
   ],
   "source": [
    "# 26. Write a code that uses a lambda function to find the maximum of three given numbers.\n",
    "\n",
    "find_max = lambda x, y, z: max(x, y, z)\n",
    "num1 = 51\n",
    "num2 = 17\n",
    "num3 = 24\n",
    "maximum = find_max(num1, num2, num3)\n",
    "print(\"Maximum number:\", maximum)"
   ]
  },
  {
   "cell_type": "markdown",
   "id": "59a4edcd-0af0-4d62-8d76-e20ae1b4bc00",
   "metadata": {},
   "source": [
    "# 27. What is encapsulation in OOP ?\n",
    "\n",
    "Encapsulation ia a Python technique for combining data and functions into a single object. A class, for instance, contains all the data(methods and variables). Encapsulation refers to the broad concealment of an object's internal representation from areas outside of its specification. "
   ]
  },
  {
   "cell_type": "markdown",
   "id": "ae83a3f1-6dba-4456-88a0-22cd6f835690",
   "metadata": {},
   "source": [
    "# 28. Explain the use of access modifiers in Python classes.\n",
    "\n",
    "A class's data members and methods can be made private or protected in order to achieve encapsulation. Direct access modifiers like public, private, and protected don't exist in Python, though. Single and double underscores can be used to accomplish this.\n",
    "Modifiers for access control restrict use of a class's variables and methods. Private, public, and protected are the three different access modifier types that Python offers. "
   ]
  },
  {
   "cell_type": "markdown",
   "id": "e416b70d-63ea-4227-aa2f-e8ce7b85b458",
   "metadata": {},
   "source": [
    "# 29. What is inheritance in OOP?\n",
    "\n",
    "Inheritance plays a significant role in an object-oriented programming language. Inheritance in Python refers to the process of a child class receiving the parent class's properties.\n",
    "The reuse of code is inheritance's main goal. Instead of starting from scratch when developing a new class, we can use the existing class instead of re-creating it from scratch."
   ]
  },
  {
   "cell_type": "markdown",
   "id": "e1471758-6fb8-4eda-a1bc-f9565be7ea2b",
   "metadata": {},
   "source": [
    "# 30. Define polymorphism in OOP.\n",
    "\n",
    "In OOP, polymorphism refers to an object's capacity to assume several forms. Simply said, polymorphism enables us to carry out a single activity in a variety of ways.\n",
    "Polymorphism is the capacity to assume several shapes."
   ]
  },
  {
   "cell_type": "markdown",
   "id": "9e9bf076-48be-4c4b-9789-e58f541120b7",
   "metadata": {},
   "source": [
    "# 31. Explain method overriding in Python.\n",
    "\n",
    "Method overriding is the practice of invoking the same method more than once with different parameters. Method overloading is not supportes by Python. Even if you overload the method, Python only takes into account the most recent definition. If you overload a method in python, a TypeError will be raised."
   ]
  },
  {
   "cell_type": "code",
   "execution_count": 113,
   "id": "9a047ca0-7696-47c4-9556-2ec534113503",
   "metadata": {},
   "outputs": [
    {
     "name": "stdout",
     "output_type": "stream",
     "text": [
      "Generic animal sound\n"
     ]
    }
   ],
   "source": [
    "# 32. Define a parent class Animal with a method make_sound that prints \"Generic animal sound\". Create a child class Dog inheriting from Animal with a method make_sound that prints \"Woof!\".\n",
    "\n",
    "class Animal:\n",
    "    def make_sound(self):\n",
    "        print(\"Generic animal sound\")\n",
    "generic_animal = Animal()\n",
    "generic_animal.make_sound()"
   ]
  },
  {
   "cell_type": "code",
   "execution_count": 114,
   "id": "6e6527ac-5c88-431e-a30b-7c2f592c7ce3",
   "metadata": {},
   "outputs": [
    {
     "name": "stdout",
     "output_type": "stream",
     "text": [
      "Woof!\n"
     ]
    }
   ],
   "source": [
    "class Dog(Animal):\n",
    "    def make_sound(self):\n",
    "        print(\"Woof!\")\n",
    "dog = Dog()\n",
    "dog.make_sound()"
   ]
  },
  {
   "cell_type": "code",
   "execution_count": 115,
   "id": "ba61c97b-0e75-4bb7-b785-bac302b0ac5d",
   "metadata": {},
   "outputs": [
    {
     "name": "stdout",
     "output_type": "stream",
     "text": [
      "Animal moves\n",
      "Dog runs\n"
     ]
    }
   ],
   "source": [
    "# 33. Define a method move in the Animal class that prints \"Animal moves\". Override the move method in the Dog class to print \"Dog runs.\"\n",
    "\n",
    "class Animal:\n",
    "    def move(self):\n",
    "        print(\"Animal moves\")\n",
    "class Dog(Animal):\n",
    "    def move(self):\n",
    "        print(\"Dog runs\")\n",
    "generic_animal = Animal()\n",
    "generic_animal.move()\n",
    "dog = Dog()\n",
    "dog.move()"
   ]
  },
  {
   "cell_type": "code",
   "execution_count": 116,
   "id": "f193afcd-1dcd-4070-9bd6-3b9b2f877c7e",
   "metadata": {},
   "outputs": [
    {
     "name": "stdout",
     "output_type": "stream",
     "text": [
      "Giving birth to live young\n",
      "Inheriting from both Dog and Mammal\n"
     ]
    }
   ],
   "source": [
    "# 34. Create a class Mammal with a method reproduce that prints \"Giving birth to live young\". Create a class DogMammal inheriting from both Dog and Mammal.\n",
    "\n",
    "class Mammal:\n",
    "    def reproduce(self):\n",
    "        print(\"Giving birth to live young\")\n",
    "class Dog:\n",
    "    def bark(self):\n",
    "        print(\"Woof!\")\n",
    "class DogMammal(Dog, Mammal):\n",
    "    def child(self):\n",
    "        print(\"Inheriting from both Dog and Mammal\")\n",
    "dog_mammal = DogMammal()\n",
    "dog_mammal.reproduce()\n",
    "dog_mammal.child()"
   ]
  },
  {
   "cell_type": "code",
   "execution_count": 117,
   "id": "0f4f42db-14e2-478e-bdbf-d2fa811af53e",
   "metadata": {},
   "outputs": [
    {
     "name": "stdout",
     "output_type": "stream",
     "text": [
      "Bark!\n"
     ]
    }
   ],
   "source": [
    "# 35. Create a class GermanShepherd inheriting from Dog and override the make_sound method to print \"Bark!\"\n",
    "\n",
    "class Dog:\n",
    "    def __init__(self, name):\n",
    "        self.name = name\n",
    "class GermanShepherd(Dog):\n",
    "    def make_sound(self):\n",
    "        print(\"Bark!\")\n",
    "german_shepherd = GermanShepherd(\"Tom\")\n",
    "german_shepherd.make_sound()"
   ]
  },
  {
   "cell_type": "code",
   "execution_count": 118,
   "id": "35adfb1b-7a5e-462b-a397-69a4e9505900",
   "metadata": {},
   "outputs": [
    {
     "name": "stdout",
     "output_type": "stream",
     "text": [
      "Elephant, 10 years old\n",
      "Buddy the Labrador, 5 years old\n"
     ]
    }
   ],
   "source": [
    "# 36. Define constructors in both the Animal and Dog classes with different initialization parameters.\n",
    "\n",
    "class Animal:\n",
    "    def __init__(self, species, age):\n",
    "        self.species = species\n",
    "        self.age = age\n",
    "\n",
    "    def __str__(self):\n",
    "        return f\"{self.species}, {self.age} years old\"\n",
    "\n",
    "class Dog(Animal):\n",
    "    def __init__(self, species, age, breed, name):\n",
    "        super().__init__(species, age)\n",
    "        self.breed = breed\n",
    "        self.name = name\n",
    "\n",
    "    def __str__(self):\n",
    "        return f\"{self.name} the {self.breed}, {self.age} years old\"\n",
    "\n",
    "generic_animal = Animal(\"Elephant\", 10)\n",
    "print(generic_animal)\n",
    "\n",
    "my_dog = Dog(\"Canine\", 5, \"Labrador\", \"Buddy\")\n",
    "print(my_dog)\n"
   ]
  },
  {
   "cell_type": "markdown",
   "id": "063c678b-6e41-4913-bbea-42a7d6192a32",
   "metadata": {},
   "source": [
    "# 37. What is abstraction in Python? How is it implemented?\n",
    "\n",
    "In Python, abstraction is a key idea in object-oriented programming(OOP) that allows you to describe complicated systems by hiding unneeded details and exposing just essential aspects. It aids in the management of programme complexity by breaking it down into smaller, more manageable sections.\n",
    "here, method() ia a normal method whereas Abs_method() is an abstract method implementing @abstractmethod from the abc module."
   ]
  },
  {
   "cell_type": "code",
   "execution_count": 119,
   "id": "a04145ab-8203-44bc-ac86-dda824c7d867",
   "metadata": {},
   "outputs": [
    {
     "name": "stdout",
     "output_type": "stream",
     "text": [
      "Area of rectangle: 20\n",
      "Area of circle: 28.259999999999998\n"
     ]
    }
   ],
   "source": [
    "from abc import ABC, abstractmethod\n",
    "\n",
    "class Shape(ABC):\n",
    "    @abstractmethod\n",
    "    def area(self):\n",
    "        pass\n",
    "class Rectangle(Shape):\n",
    "    def __init__(self, length, width):\n",
    "        self.length = length\n",
    "        self.width = width    \n",
    "    def area(self):\n",
    "        return self.length * self.width\n",
    "class Circle(Shape):\n",
    "    def __init__(self, radius):\n",
    "        self.radius = radius    \n",
    "    def area(self):\n",
    "        return 3.14 * self.radius * self.radius\n",
    "rect = Rectangle(5, 4)\n",
    "print(\"Area of rectangle:\", rect.area())\n",
    "cir = Circle(3)\n",
    "print(\"Area of circle:\", cir.area())"
   ]
  },
  {
   "cell_type": "markdown",
   "id": "8dd00bbe-86a1-4a01-8521-cda7944b6f03",
   "metadata": {},
   "source": [
    "# 38. Explain the importance of abstraction in object-oriented programming.\n",
    "\n",
    "Abstraction is a fundamental concept in object-oriented programming (OOP) that allows developers to manage complexity by hiding unnecessary details and emphasizing only relevant information. Here's why abstraction is crucial in OOP:\n",
    "\n",
    "Encapsulation of Complexity: Abstraction allows developers to encapsulate the essential characteristics of an object while hiding its internal complexities. This encapsulation enables programmers to focus on using objects without needing to understand the intricate details of their implementation.\n",
    "\n",
    "Modularity: Abstraction facilitates modularity by breaking down a system into smaller, manageable parts. Each part can be abstracted to provide a clear interface, allowing developers to work on different modules independently without being concerned about the internal workings of other modules.\n",
    "\n",
    "Code Reusability: Abstraction promotes code reusability by defining a clear interface for interacting with objects. Once an abstract class or interface is defined, it can be implemented by multiple concrete classes, providing flexibility and reducing redundancy in code.\n",
    "\n",
    "Ease of Maintenance: Abstracting away unnecessary details simplifies code maintenance. When changes are required, developers can modify the implementation behind the abstraction without affecting the code that uses the abstraction, as long as the interface remains unchanged. This separation of concerns makes it easier to maintain and update code over time.\n",
    "\n",
    "Enhanced Understanding and Communication: Abstraction allows developers to focus on the essential aspects of an object's behavior, making it easier to understand and communicate about the system's design and functionality. By providing a clear and concise representation of objects and their interactions, abstraction improves the readability and comprehensibility of code.\n",
    "\n",
    "Polymorphism: Abstraction enables polymorphism, which is the ability for objects of different classes to be treated as objects of a common superclass. This allows for more flexible and extensible code, as methods can be defined to operate on objects of the superclass type, and different implementations can be provided by subclasses."
   ]
  },
  {
   "cell_type": "markdown",
   "id": "bca28295-c519-4994-bb38-2ef72d794cce",
   "metadata": {},
   "source": [
    "# 39. How are abstract methods different from regular methods in Python?\n",
    "\n",
    "In Python, abstract methods are different from regular methods in several key ways:\n",
    "\n",
    "Definition: Abstract methods are defined within abstract classes using the @abstractmethod decorator from the abc (Abstract Base Classes) module. Regular methods are defined without any special decorators.\n",
    "\n",
    "Implementation: Abstract methods have no implementation in the abstract class where they are defined. They serve as placeholders for methods that must be implemented by subclasses. Regular methods have a defined implementation within the class.\n",
    "\n",
    "Usage: Abstract methods cannot be directly instantiated or called from the abstract class. They must be implemented in concrete subclasses before they can be used. Regular methods can be called directly from instances of the class.\n",
    "\n",
    "Enforcement: Abstract methods enforce a contract that concrete subclasses must adhere to. If a subclass fails to implement an abstract method defined in its superclass, attempting to instantiate the subclass will raise a TypeError. Regular methods do not enforce such contracts."
   ]
  },
  {
   "cell_type": "markdown",
   "id": "80daff65-78b5-45dc-a491-35bc0dccd1d8",
   "metadata": {},
   "source": [
    "# 40. How can achieve abstraction using interfaces in Python?\n",
    "\n",
    "In Python, you can achieve abstraction using interfaces by using abstract base classes (ABCs) from the abc module. Here's how you can do it:\n",
    "\n",
    "Define an Interface: Start by defining an abstract base class that defines the interface you want to enforce. An abstract base class in Python is a class that cannot be instantiated directly. Instead, you must subclass it and override its abstract methods.\n",
    "\n",
    "Declare Abstract Methods: Declare abstract methods within the abstract base class. These methods must be overridden by concrete subclasses.\n",
    "\n",
    "Subclass and Implement: Subclass the abstract base class and implement the abstract methods in the subclass"
   ]
  },
  {
   "cell_type": "code",
   "execution_count": 120,
   "id": "f47966ec-3c60-45c4-a764-c6fe480526cf",
   "metadata": {},
   "outputs": [
    {
     "data": {
      "text/plain": [
       "'Area of rectangle : length * breadth'"
      ]
     },
     "execution_count": 120,
     "metadata": {},
     "output_type": "execute_result"
    }
   ],
   "source": [
    "# 41. Can you provide an example of how abstraction can be utilized to create a common interface for a group of related classes in Python?\n",
    "\n",
    "import abc\n",
    "class Shape:\n",
    "    @abc.abstractmethod\n",
    "    def calculate_area(self):\n",
    "        pass\n",
    "\n",
    "class Rectange(Shape):\n",
    "    def calculate_area(self):\n",
    "        return \"Area of rectangle : length * breadth\"\n",
    "class Circle(Shape):\n",
    "    def calculate_area(self):\n",
    "        return \"Area of circle : pi r**2\"\n",
    "    \n",
    "rect = Rectange()\n",
    "rect.calculate_area()"
   ]
  },
  {
   "cell_type": "code",
   "execution_count": 121,
   "id": "5fbd4a63-8f96-47d0-9506-2d0c568b449f",
   "metadata": {},
   "outputs": [
    {
     "data": {
      "text/plain": [
       "'Area of circle : pi r**2'"
      ]
     },
     "execution_count": 121,
     "metadata": {},
     "output_type": "execute_result"
    }
   ],
   "source": [
    "c = Circle()\n",
    "c.calculate_area()"
   ]
  },
  {
   "cell_type": "markdown",
   "id": "85c07bee-95d7-4d84-b85c-9eb25eb7e5b9",
   "metadata": {},
   "source": [
    "# 42. How does Python achieve polymorphism through method overriding?\n",
    "\n",
    "\n",
    "In Python, polymorphism is achieved through method overriding primarily by adhering to the principles of object-oriented programming (OOP). Method overriding allows a subclass to provide a specific implementation of a method that is already defined in its superclass. When you call a method on an object, Python checks whether that method is defined in the class of the object itself. If not found, Python looks up the inheritance hierarchy until it finds the method definition. This mechanism enables polymorphic behavior, where different objects can respond to the same message (method call) in different ways."
   ]
  },
  {
   "cell_type": "code",
   "execution_count": 122,
   "id": "2aad4795-b0cd-4611-b24b-01c844c7d7fb",
   "metadata": {},
   "outputs": [
    {
     "name": "stdout",
     "output_type": "stream",
     "text": [
      "This is the method from the BaseClass\n",
      "This is the method from the SubClass\n"
     ]
    }
   ],
   "source": [
    "# 43. Define a base class with a method and a subclass that overrides the method.\n",
    "\n",
    "class BaseClass:\n",
    "    def method(self):\n",
    "        print(\"This is the method from the BaseClass\")\n",
    "\n",
    "class SubClass(BaseClass):\n",
    "    def method(self):\n",
    "        print(\"This is the method from the SubClass\")\n",
    "\n",
    "base_obj = BaseClass()\n",
    "sub_obj = SubClass()\n",
    "\n",
    "base_obj.method()\n",
    "sub_obj.method()"
   ]
  },
  {
   "cell_type": "code",
   "execution_count": 123,
   "id": "3ad3194b-7aab-4b36-80af-685146e5ea04",
   "metadata": {},
   "outputs": [
    {
     "name": "stdout",
     "output_type": "stream",
     "text": [
      "Buddy says Woof!\n",
      "Whiskers says Meow!\n",
      "Bessie says Moo!\n"
     ]
    }
   ],
   "source": [
    "# 44. Define a base class and multiple subclasses with overridden methods.\n",
    "\n",
    "class Animal:\n",
    "    def __init__(self, name):\n",
    "        self.name = name\n",
    "    \n",
    "    def sound(self):\n",
    "        pass\n",
    "\n",
    "class Dog(Animal):\n",
    "    def sound(self):\n",
    "        return \"Woof!\"\n",
    "\n",
    "class Cat(Animal):\n",
    "    def sound(self):\n",
    "        return \"Meow!\"\n",
    "\n",
    "class Cow(Animal):\n",
    "    def sound(self):\n",
    "        return \"Moo!\"\n",
    "\n",
    "dog = Dog(\"Buddy\")\n",
    "cat = Cat(\"Whiskers\")\n",
    "cow = Cow(\"Bessie\")\n",
    "\n",
    "print(dog.name + \" says \" + dog.sound())\n",
    "print(cat.name + \" says \" + cat.sound())\n",
    "print(cow.name + \" says \" + cow.sound())"
   ]
  },
  {
   "cell_type": "markdown",
   "id": "ad10fa31-d829-4b54-8610-f0f46445f9ee",
   "metadata": {},
   "source": [
    "# 45. How does polymorphism improve code readability and reusability?\n",
    "\n",
    "\n",
    "Polymorphism is a fundamental concept in object-oriented programming that allows objects of different classes to be treated as objects of a common superclass. It improves code readability and reusability in several ways:\n",
    "\n",
    "Abstraction: Polymorphism allows you to work with objects at a higher level of abstraction. Instead of dealing with specific implementations, you can interact with objects based on their common interface or superclass. This abstraction simplifies code by hiding complex implementation details.\n",
    "\n",
    "Code Readability: By promoting a more abstract view of objects, polymorphism makes code easier to read and understand. When you see a method call on a superclass or interface, you don't need to know the specific type of object being manipulated; you only need to understand the behavior defined by the common interface.\n",
    "\n",
    "Flexibility: Polymorphism allows for more flexible and modular code. New subclasses can be added without modifying existing code, as long as they adhere to the common interface. This promotes a \"plug-and-play\" approach to software development, where components can be easily interchanged or extended.\n",
    "\n",
    "Code Reusability: Polymorphism promotes code reuse by allowing subclasses to inherit behavior from a common superclass or interface. Methods defined in the superclass can be reused by all subclasses, reducing the need for duplicate code and promoting the DRY (Don't Repeat Yourself) principle.\n",
    "\n",
    "Encapsulation: Polymorphism encourages encapsulation by enforcing separation of concerns. Each class is responsible for its own behavior, and interactions between objects are based on well-defined interfaces rather than direct access to implementation details. This improves maintainability and makes it easier to update or modify code without affecting other parts of the system.\n",
    "\n",
    "Overall, polymorphism enhances code readability and reusability by promoting abstraction, flexibility, and encapsulation, leading to more modular, maintainable, and extensible software systems"
   ]
  },
  {
   "cell_type": "markdown",
   "id": "4ea82e3b-23aa-4fcb-8c48-c1cd06bb2e82",
   "metadata": {},
   "source": [
    "# 46. Describe how Python supports polymorphism with duck typing.\n",
    "\n",
    "In Python, polymorphism is largely facilitated by the concept of \"duck typing,\" which is a dynamic typing approach. The term \"duck typing\" comes from the phrase \"If it looks like a duck, swims like a duck, and quacks like a duck, then it probably is a duck.\" In programming, this translates to \"If an object implements a method, you can use it as if it were of a different type, as long as it supports the required method calls.\"\n",
    "\n",
    "Here's how Python supports polymorphism through duck typing:\n",
    "\n",
    "Dynamic Typing: Python is dynamically typed, meaning you don't have to declare the type of a variable explicitly. Variables can hold objects of any type, and their type is determined at runtime.\n",
    "\n",
    "Method Overriding: Python allows subclass methods to override superclass methods. This means that a subclass can provide a specific implementation of a method that is already defined in its superclass. This is a key aspect of polymorphism, as it allows different objects to respond to the same message (method call) in different ways.\n",
    "\n",
    "Duck Typing: Python doesn't require explicit inheritance or interface implementations for polymorphism. Instead, it relies on the presence of specific methods or attributes at runtime. If an object implements the necessary methods that another piece of code expects, it can be used interchangeably with objects of different types."
   ]
  },
  {
   "cell_type": "markdown",
   "id": "73ac9ae9-d01c-44f1-bcc0-06059894948d",
   "metadata": {},
   "source": [
    "# 47. How do you achieve encapsulation in Python?\n",
    "\n",
    "Encapsulation in Python is achieved using classes and objects, along with access modifiers like public, private, and protected. Here's how you can achieve encapsulation:\n",
    "\n",
    "Using Private Variables: In Python, private variables are declared by prefixing the variable name with double underscores (__). These variables are not directly accessible outside the class\n",
    "\n",
    "Using Property Decorators: Property decorators in Python allow defining getter and setter methods for a class attribute.\n",
    "\n",
    "Using Getter and Setter Methods: You can define custom methods to get and set the values of private variables.\n",
    "\n",
    "Encapsulation helps in hiding the internal state and implementation details of a class, providing a clear interface for interacting with the class objects."
   ]
  },
  {
   "cell_type": "markdown",
   "id": "a19ac7ff-befa-4189-95f1-708672c053d5",
   "metadata": {},
   "source": [
    "# 48. Can encapsulation be bypassed in Python? If so, how?\n",
    "\n",
    "Encapsulation in Python is a concept that refers to restricting access to certain parts of an object or class to prevent unintended interference or modification. While Python does not have strict access modifiers like some other languages (e.g., private, protected), encapsulation can still be implemented using conventions and techniques.\n",
    "\n",
    "However, Python being a dynamic language, it is technically possible to bypass encapsulation, though it's against the principles of good design and can lead to unexpected behavior. Here are some ways encapsulation can be bypassed in Python"
   ]
  },
  {
   "cell_type": "code",
   "execution_count": 124,
   "id": "75a754a8-10c0-4339-9228-7e1aae58f217",
   "metadata": {},
   "outputs": [
    {
     "name": "stdout",
     "output_type": "stream",
     "text": [
      "10\n"
     ]
    }
   ],
   "source": [
    "class MyClass:\n",
    "    def __init__(self):\n",
    "        self._private_var = 10\n",
    "\n",
    "obj = MyClass()\n",
    "print(obj._private_var)"
   ]
  },
  {
   "cell_type": "code",
   "execution_count": 125,
   "id": "452795f1-c501-47d0-9b64-572f20adb476",
   "metadata": {},
   "outputs": [
    {
     "name": "stdout",
     "output_type": "stream",
     "text": [
      "Current balance: $15000\n",
      "Deposited $2454. New balance: $17454\n",
      "Withdrew $2454. New balance: $15000\n",
      "Current balance: $15000\n"
     ]
    }
   ],
   "source": [
    "# 49. Implement a class BankAccount with a private balance attribute. Include methods to deposit, withdraw, and check the balance.\n",
    "\n",
    "class BankAccount:\n",
    "    def __init__(self, initial_balance=0):\n",
    "        self.__balance = initial_balance  # __balance is a private attribute\n",
    "\n",
    "    def deposit(self, amount):\n",
    "        if amount > 0:\n",
    "            self.__balance += amount\n",
    "            print(f\"Deposited ${amount}. New balance: ${self.__balance}\")\n",
    "        else:\n",
    "            print(\"Invalid deposit amount. Please enter a positive value.\")\n",
    "\n",
    "    def withdraw(self, amount):\n",
    "        if 0 < amount <= self.__balance:\n",
    "            self.__balance -= amount\n",
    "            print(f\"Withdrew ${amount}. New balance: ${self.__balance}\")\n",
    "        else:\n",
    "            print(\"Insufficient funds or invalid withdrawal amount.\")\n",
    "\n",
    "    def check_balance(self):\n",
    "        print(f\"Current balance: ${self.__balance}\")\n",
    "\n",
    "account = BankAccount(15000)\n",
    "account.check_balance()\n",
    "account.deposit(2454) \n",
    "account.withdraw(2454)\n",
    "account.check_balance() "
   ]
  },
  {
   "cell_type": "code",
   "execution_count": 126,
   "id": "03776ccc-2f23-4ab4-a592-8fc2654bf6dc",
   "metadata": {},
   "outputs": [
    {
     "name": "stdout",
     "output_type": "stream",
     "text": [
      "Name: Ayush\n",
      "Email: Ayush@pandey.com\n",
      "Updated Email: Ayush.datascience@example.com\n"
     ]
    }
   ],
   "source": [
    "# 50. Develop a Person class with private attributes name and email, and methods to set and get the email.\n",
    "\n",
    "class Person:\n",
    "    def __init__(self, name, email):\n",
    "        self.__name = name\n",
    "        self.__email = email\n",
    "\n",
    "    def set_email(self, email):\n",
    "        self.__email = email\n",
    "\n",
    "    def get_email(self):\n",
    "        return self.__email\n",
    "\n",
    "    def get_name(self):\n",
    "        return self.__name\n",
    "person1 = Person(\"Ayush\", \"Ayush@pandey.com\")\n",
    "print(\"Name:\", person1.get_name())\n",
    "print(\"Email:\", person1.get_email())\n",
    "\n",
    "person1.set_email(\"Ayush.datascience@example.com\")\n",
    "print(\"Updated Email:\", person1.get_email())\n"
   ]
  },
  {
   "cell_type": "markdown",
   "id": "867bf7f0-e044-4030-8e72-8ae84bff450c",
   "metadata": {},
   "source": [
    "# 51. Why is encapsulation considered a pillar of object-oriented programming (OOP)?\n",
    "\n",
    "Encapsulation is considered a pillar of object-oriented programming (OOP) because it helps in organizing and managing complexity in software systems by hiding the internal state of objects and restricting direct access to it from the outside. This concept promotes modularity and separation of concerns, which are fundamental principles in software design.\n",
    "\n",
    "Here's why encapsulation is important:\n",
    "\n",
    "Information Hiding: Encapsulation allows the internal details of an object to be hidden from the outside world. Only the necessary information and functionality are exposed to the outside through well-defined interfaces. This helps in controlling access to the object's state and behavior, reducing the chance of unintended interference and making the system more robust.\n",
    "\n",
    "Abstraction: Encapsulation enables the concept of abstraction, where an object presents a simplified, high-level interface to the rest of the program while hiding the complex implementation details. This allows developers to focus on using objects without worrying about how they are implemented internally, promoting a clearer separation of concerns and making the code easier to understand and maintain.\n",
    "\n",
    "Modularity: By encapsulating related data and behavior within an object, encapsulation facilitates modularity, allowing different parts of a system to be developed, tested, and maintained independently. This makes the codebase more scalable and promotes code reuse, as encapsulated objects can be easily integrated into other parts of the system or reused in different projects.\n",
    "\n",
    "Encapsulation Invariants: Encapsulation allows developers to enforce invariants, which are conditions or constraints that must always be true for an object to be in a valid state. By encapsulating the state and providing controlled access to it through methods or properties, developers can ensure that the object's state remains consistent and valid, even when it is modified by different parts of the program.\n",
    "\n",
    "Overall, encapsulation promotes better software design by providing a mechanism for managing complexity, improving code maintainability, and facilitating the development of modular, reusable, and reliable software systems."
   ]
  },
  {
   "cell_type": "code",
   "execution_count": 127,
   "id": "16eda32f-69a0-4f7c-b898-6bc83d7b0b79",
   "metadata": {},
   "outputs": [
    {
     "name": "stdout",
     "output_type": "stream",
     "text": [
      "Before executing the function\n",
      "After executing the function\n",
      "36\n"
     ]
    }
   ],
   "source": [
    "# 52. Create a decorator in Python that adds functionality to a simple function by printing a message before and after the function execution.\n",
    "\n",
    "def function_decorator(func):\n",
    "    def wrapper(*args, **kwargs):\n",
    "        print(\"Before executing the function\")\n",
    "        result = func(*args, **kwargs)\n",
    "        print(\"After executing the function\")\n",
    "        return result\n",
    "    return wrapper\n",
    "\n",
    "@function_decorator\n",
    "def example_function(x, y):\n",
    "    return x + y\n",
    "\n",
    "print(example_function(15, 21))"
   ]
  },
  {
   "cell_type": "code",
   "execution_count": 128,
   "id": "49246adf-a147-437f-8741-a6f2b094e457",
   "metadata": {},
   "outputs": [
    {
     "name": "stdout",
     "output_type": "stream",
     "text": [
      "Function 'example_function': Executing...\n",
      "Inside example function\n"
     ]
    }
   ],
   "source": [
    "# 53. Modify the decorator to accept arguments and print the function name along with the message.\n",
    "\n",
    "def custom_decorator(message):\n",
    "    def decorator(func):\n",
    "        def wrapper(*args, **kwargs):\n",
    "            print(f\"Function '{func.__name__}': {message}\")\n",
    "            return func(*args, **kwargs)\n",
    "        return wrapper\n",
    "    return decorator\n",
    "\n",
    "@custom_decorator(\"Executing...\")\n",
    "def example_function():\n",
    "    print(\"Inside example function\")\n",
    "\n",
    "example_function()"
   ]
  },
  {
   "cell_type": "code",
   "execution_count": 129,
   "id": "5fcbbce0-9caf-4be0-886a-604a3e3fd2ee",
   "metadata": {},
   "outputs": [
    {
     "name": "stdout",
     "output_type": "stream",
     "text": [
      "Executing first_decorator\n",
      "Executing second_decorator\n",
      "Inside my_function\n"
     ]
    }
   ],
   "source": [
    "# 54. Create two decorators, and apply them to a single function.Ensure that they execute in the order they are applied.\n",
    "\n",
    "def first_decorator(func):\n",
    "    def wrapper(*args, **kwargs):\n",
    "        print(\"Executing first_decorator\")\n",
    "        result = func(*args, **kwargs)\n",
    "        return result\n",
    "    return wrapper\n",
    "\n",
    "def second_decorator(func):\n",
    "    def wrapper(*args, **kwargs):\n",
    "        print(\"Executing second_decorator\")\n",
    "        result = func(*args, **kwargs)\n",
    "        return result\n",
    "    return wrapper\n",
    "\n",
    "@first_decorator\n",
    "@second_decorator\n",
    "def my_function():\n",
    "    print(\"Inside my_function\")\n",
    "\n",
    "my_function()"
   ]
  },
  {
   "cell_type": "code",
   "execution_count": 130,
   "id": "a4b4d6ef-735e-4703-9a6a-d4a9f4741672",
   "metadata": {},
   "outputs": [
    {
     "name": "stdout",
     "output_type": "stream",
     "text": [
      "Do something before the function is called\n",
      "Do something after the function is called\n",
      "7\n"
     ]
    }
   ],
   "source": [
    "# 55. Modify the decorator to accept and pass function arguments to the wrapped function.\n",
    "\n",
    "def my_decorator(func):\n",
    "    def wrapper(*args, **kwargs):\n",
    "        print(\"Do something before the function is called\")\n",
    "        result = func(*args, **kwargs)\n",
    "        print(\"Do something after the function is called\")\n",
    "        return result\n",
    "    return wrapper\n",
    "\n",
    "@my_decorator\n",
    "def my_function(x, y):\n",
    "    return x + y\n",
    "\n",
    "print(my_function(3, 4))"
   ]
  },
  {
   "cell_type": "code",
   "execution_count": 131,
   "id": "e6c7dbad-66dc-496a-b9a7-32010c665f55",
   "metadata": {},
   "outputs": [
    {
     "name": "stdout",
     "output_type": "stream",
     "text": [
      "my_function\n",
      "None\n"
     ]
    }
   ],
   "source": [
    "# 56. Create a decorator that preserves the metadata of the original function.\n",
    "\n",
    "import functools\n",
    "\n",
    "def preserve_metadata(func):\n",
    "    @functools.wraps(func)\n",
    "    def wrapper(*args, **kwargs):\n",
    "        return func(*args, **kwargs)\n",
    "    return wrapper\n",
    "\n",
    "@preserve_metadata\n",
    "def my_function():\n",
    "    pass\n",
    "\n",
    "print(my_function.__name__) \n",
    "print(my_function.__doc__)"
   ]
  },
  {
   "cell_type": "code",
   "execution_count": 132,
   "id": "40129f89-ff8c-4b93-b5a6-5e884138ba85",
   "metadata": {},
   "outputs": [
    {
     "name": "stdout",
     "output_type": "stream",
     "text": [
      "Sum: 31\n"
     ]
    }
   ],
   "source": [
    "# 57. Create a Python class 'Calculator' with  a static method 'add' that takes in two numbers and returns their sum.\n",
    "\n",
    "class Calculator:\n",
    "    @staticmethod\n",
    "    def add(num1, num2):\n",
    "        return num1 + num2\n",
    "result = Calculator.add(10, 21)\n",
    "print(\"Sum:\", result)"
   ]
  },
  {
   "cell_type": "code",
   "execution_count": 133,
   "id": "d981229b-5ebf-4603-bdfe-4285046f3801",
   "metadata": {},
   "outputs": [
    {
     "name": "stdout",
     "output_type": "stream",
     "text": [
      "3\n"
     ]
    }
   ],
   "source": [
    "# 58. Create a Python class 'Employee' with a class 'method get_employee_count' that returns the total number of employees created.\n",
    "\n",
    "class Employee:\n",
    "    total_employee_count = 0\n",
    "\n",
    "    def __init__(self, name, age):\n",
    "        self.name = name\n",
    "        self.age = age\n",
    "        Employee.total_employee_count += 1\n",
    "\n",
    "    @classmethod\n",
    "    def get_employee_count(cls):\n",
    "        return cls.total_employee_count\n",
    "    \n",
    "emp1 = Employee(\"Prince\", 30)\n",
    "emp2 = Employee(\"Nitin\", 25)\n",
    "emp3 = Employee(\"Sankalp\", 35)\n",
    "\n",
    "print(Employee.get_employee_count())"
   ]
  },
  {
   "cell_type": "code",
   "execution_count": 134,
   "id": "87e76ad5-799b-4bba-959c-59a87c408190",
   "metadata": {},
   "outputs": [
    {
     "name": "stdout",
     "output_type": "stream",
     "text": [
      "! syuG yeH\n"
     ]
    }
   ],
   "source": [
    "# 59. Create a Python class 'StringFormatter' with a static method 'reverse_string' that takes a string as input and returns its reverse.\n",
    "\n",
    "class StringFormatter:\n",
    "    @staticmethod\n",
    "    def reverse_string(string):\n",
    "        return string[::-1]\n",
    "input_string = \"Hey Guys !\"\n",
    "reversed_string = StringFormatter.reverse_string(input_string)\n",
    "print(reversed_string)"
   ]
  },
  {
   "cell_type": "code",
   "execution_count": 135,
   "id": "50cb31ad-e4b8-4b5c-9aaf-7566e0c00abd",
   "metadata": {},
   "outputs": [
    {
     "name": "stdout",
     "output_type": "stream",
     "text": [
      "Area of the circle with radius 5 is: 78.53975\n"
     ]
    }
   ],
   "source": [
    "# 60. Create a Python class 'Circle' with a class method 'calculate_area' that calculates the area of a circle given its radius.\n",
    "\n",
    "class Circle:\n",
    "    @classmethod\n",
    "    def calculate_area(cls, radius):\n",
    "        return 3.14159 * radius ** 2 \n",
    "    \n",
    "radius = 5\n",
    "area = Circle.calculate_area(radius)\n",
    "print(\"Area of the circle with radius\", radius, \"is:\", area)"
   ]
  },
  {
   "cell_type": "code",
   "execution_count": 136,
   "id": "15bb66ef-59b1-4ac5-8da0-ef96cc8f6d47",
   "metadata": {},
   "outputs": [
    {
     "name": "stdout",
     "output_type": "stream",
     "text": [
      "24 degrees Celsius is equal to 75.2 degrees Fahrenheit.\n"
     ]
    }
   ],
   "source": [
    "# 61. Create a Python class 'TemperatureConverter' with a static method 'celsius_to_fahrenheit' that converts Celsius to Fahrenheit.\n",
    "\n",
    "class TempConverter:\n",
    "    @staticmethod\n",
    "    def cels_to_fahren(celsius):\n",
    "        return (celsius * 9/5) + 32\n",
    "    \n",
    "cels_temp = 24\n",
    "fahren_temp = TempConverter.cels_to_fahren(cels_temp)\n",
    "print(f\"{cels_temp} degrees Celsius is equal to {fahren_temp} degrees Fahrenheit.\")"
   ]
  },
  {
   "cell_type": "markdown",
   "id": "8384b175-28f9-40b2-b6c8-4acb6ea80d8c",
   "metadata": {},
   "source": [
    "# 62. What is the purpose of the __str__() method in Python classes? Provide an example.\n",
    "\n",
    "__str__() method is called when the str() function is used on an instance of the class. It should return a string representation of the object."
   ]
  },
  {
   "cell_type": "code",
   "execution_count": 66,
   "id": "42e2df1e-47f4-4058-b3c7-0d22dc3f06a8",
   "metadata": {},
   "outputs": [
    {
     "name": "stdout",
     "output_type": "stream",
     "text": [
      "2024 Toyota Fortuner\n"
     ]
    }
   ],
   "source": [
    "class Car:\n",
    "    def __init__(self, brand, model, year):\n",
    "        self.brand = brand\n",
    "        self.model = model\n",
    "        self.year = year\n",
    "    \n",
    "    def __str__(self):\n",
    "        return f\"{self.year} {self.brand} {self.model}\"\n",
    "\n",
    "my_car = Car(\"Toyota\", \"Fortuner\", 2024)\n",
    "print(my_car)"
   ]
  },
  {
   "cell_type": "markdown",
   "id": "1506b9fa-33ae-4469-b980-6cbe145c41e9",
   "metadata": {},
   "source": [
    "# 63. How does the __len__() method work in Python? Provide an example.\n",
    "\n",
    "__len__() method is a special method used to determine the length of an object. It allows you to define custom behavior for getting the length of instances of your own classes."
   ]
  },
  {
   "cell_type": "code",
   "execution_count": 72,
   "id": "37c7f28a-ce61-4a5a-886c-cb09cbb872d5",
   "metadata": {},
   "outputs": [
    {
     "name": "stdout",
     "output_type": "stream",
     "text": [
      "5\n"
     ]
    }
   ],
   "source": [
    "class MyList:\n",
    "    def __init__(self, data):\n",
    "        self.data = data\n",
    "\n",
    "    def __len__(self):\n",
    "        return len(self.data)\n",
    "\n",
    "my_list = MyList([1, 3, 5, 7, 9])\n",
    "print(len(my_list))"
   ]
  },
  {
   "cell_type": "markdown",
   "id": "b3edee78-387f-47fd-bf11-cfa250166c4a",
   "metadata": {},
   "source": [
    "# 64. Explain the usage of the __add__() method in Python classes. Provide an example.\n",
    "\n",
    "__add__() method is called when the + operator is used with instances of the class. It should return the result of addition."
   ]
  },
  {
   "cell_type": "code",
   "execution_count": 69,
   "id": "9c502e2b-fff2-4a94-a43e-da0510d97067",
   "metadata": {},
   "outputs": [
    {
     "name": "stdout",
     "output_type": "stream",
     "text": [
      "8 15\n"
     ]
    }
   ],
   "source": [
    "class Point:\n",
    "    def __init__(self, x, y):\n",
    "        self.x = x\n",
    "        self.y = y\n",
    "    \n",
    "    def __add__(self, other):\n",
    "        return Point(self.x + other.x, self.y + other.y)\n",
    "point1 = Point(5, 7)\n",
    "point2 = Point(3, 8)\n",
    "result = point1 + point2\n",
    "print(result.x, result.y)"
   ]
  },
  {
   "cell_type": "markdown",
   "id": "69faf687-0bf5-449c-bba0-2c14aa2fb0d2",
   "metadata": {},
   "source": [
    "# 65. What is the purpose of the __getitem__() method in Python? Provide an example.\n",
    "\n",
    "__getitem__() method is a special method used to enable the indexing and slicing of objects. It allows instances of a class to be accessed using square bracket notation, just like built-in data types such as lists, tuples, and dictionaries"
   ]
  },
  {
   "cell_type": "code",
   "execution_count": 73,
   "id": "fafc5ba9-76bb-40ef-9d28-47a03152d85f",
   "metadata": {},
   "outputs": [
    {
     "name": "stdout",
     "output_type": "stream",
     "text": [
      "3\n",
      "[1, 2, 3]\n"
     ]
    }
   ],
   "source": [
    "class CustomList:\n",
    "    def __init__(self, data):\n",
    "        self.data = data\n",
    "    \n",
    "    def __getitem__(self, index):\n",
    "        return self.data[index]\n",
    "\n",
    "custom_list = CustomList([1, 2, 3, 4, 5])\n",
    "\n",
    "print(custom_list[2])\n",
    "print(custom_list[0:3])"
   ]
  },
  {
   "cell_type": "markdown",
   "id": "e41df7f9-f016-4350-b242-a18c0f2c768b",
   "metadata": {},
   "source": [
    "# 66. Explain the usage of the __iter__() and __next__() methods in Python. Provide an example using iterators.\n",
    "\n",
    "__iter__(): This method returns the iterator object itself. It's called when you use iter() on an iterable object or when the object is used in a for loop. It allows the object to be iterated over.\n",
    "\n",
    "__next__(): This method returns the next item in the iterator. It's called when you use the next() function on the iterator object. When there are no more items to return, it raises a StopIteration exception."
   ]
  },
  {
   "cell_type": "code",
   "execution_count": 74,
   "id": "180a704a-9635-4bc1-bcce-9ffc3bb4a368",
   "metadata": {},
   "outputs": [
    {
     "name": "stdout",
     "output_type": "stream",
     "text": [
      "1\n",
      "2\n",
      "3\n",
      "4\n",
      "5\n",
      "1\n",
      "2\n",
      "3\n"
     ]
    }
   ],
   "source": [
    "class MyIterator:\n",
    "    def __init__(self, max_num):\n",
    "        self.max_num = max_num\n",
    "        self.current = 0\n",
    "\n",
    "    def __iter__(self):\n",
    "        return self\n",
    "\n",
    "    def __next__(self):\n",
    "        if self.current < self.max_num:\n",
    "            self.current += 1\n",
    "            return self.current\n",
    "        else:\n",
    "            raise StopIteration\n",
    "\n",
    "my_iter = MyIterator(5)\n",
    "\n",
    "for item in my_iter:\n",
    "    print(item)\n",
    "\n",
    "my_iter = MyIterator(3)\n",
    "\n",
    "print(next(my_iter))\n",
    "print(next(my_iter))\n",
    "print(next(my_iter))"
   ]
  },
  {
   "cell_type": "markdown",
   "id": "f5588098-4612-4b04-99e9-39be9c8b5d79",
   "metadata": {},
   "source": [
    "# 67. What is the purpose of a getter method in Python? Provide an example demonstrating the use of a getter method using property decorators.\n",
    "\n",
    "In Python, a getter method is used to retrieve the value of a private variable (or attribute) of a class. It helps in implementing the concept of data encapsulation and controlling access to class attributes. By using getter methods, you can enforce certain conditions or logic before returning the attribute value."
   ]
  },
  {
   "cell_type": "code",
   "execution_count": 80,
   "id": "04d8eafc-32a9-4388-bbde-a9930647c279",
   "metadata": {},
   "outputs": [
    {
     "name": "stdout",
     "output_type": "stream",
     "text": [
      "20\n",
      "1256.0\n"
     ]
    }
   ],
   "source": [
    "class Circle:\n",
    "    def __init__(self, radius):\n",
    "        self._radius = radius\n",
    "        \n",
    "    @property\n",
    "    def radius(self):\n",
    "        return self._radius\n",
    "    \n",
    "    def area(self):\n",
    "        return 3.14 * self._radius ** 2\n",
    "\n",
    "circle = Circle(20)\n",
    "print(circle.radius)\n",
    "print(circle.area())"
   ]
  },
  {
   "cell_type": "markdown",
   "id": "00da1655-9b43-4619-a123-ef2351abfea9",
   "metadata": {},
   "source": [
    "# 68. Explain the role of setter methods in Python. Demonstrate how to use a setter method to modify a class attribute using property decorators.\n",
    "\n",
    "Setter methods in Python are used to set the values of attributes in a class. They provide a way to control the modification of attributes, enabling validation or additional processing before assigning a new value. Setter methods are particularly useful when you want to ensure that certain conditions are met before updating the attribute."
   ]
  },
  {
   "cell_type": "code",
   "execution_count": 82,
   "id": "9a2c0c13-731e-465f-ba1b-f3b9d04533c3",
   "metadata": {},
   "outputs": [
    {
     "name": "stdout",
     "output_type": "stream",
     "text": [
      "19\n"
     ]
    }
   ],
   "source": [
    "class Circle:\n",
    "    def __init__(self, radius):\n",
    "        self._radius = radius\n",
    "\n",
    "    @property\n",
    "    def radius(self):\n",
    "        return self._radius\n",
    "\n",
    "    @radius.setter\n",
    "    def radius(self, value):\n",
    "        if value <= 0:\n",
    "            raise ValueError(\"Radius must be positive\")\n",
    "        self._radius = value\n",
    "        \n",
    "circle = Circle(8)\n",
    "circle.radius = 19\n",
    "print(circle.radius)"
   ]
  },
  {
   "cell_type": "markdown",
   "id": "9c274422-896e-413e-98fb-e56cd7b58259",
   "metadata": {},
   "source": [
    "# 69. What is the purpose of the @property decorator in Python? Provide an example illustrating its usage.\n",
    "\n",
    "The @property decorator in Python allows you to define methods that can be accessed like attributes, providing a way to encapsulate the implementation of attributes in a class. It's often used to create computed properties or to add additional behavior to getting and setting attributes."
   ]
  },
  {
   "cell_type": "code",
   "execution_count": 87,
   "id": "11b066cb-67a9-4823-82c7-9ebd920d9165",
   "metadata": {},
   "outputs": [
    {
     "name": "stdout",
     "output_type": "stream",
     "text": [
      "Temperature in Celsius: 25\n"
     ]
    }
   ],
   "source": [
    "class Temperature:\n",
    "    def __init__(self, celsius):\n",
    "        self._celsius = celsius\n",
    "\n",
    "    @property\n",
    "    def celsius(self):\n",
    "        \"\"\"Getter method for celsius\"\"\"\n",
    "        return self._celsius\n",
    "temp = Temperature(25)\n",
    "print(\"Temperature in Celsius:\", temp.celsius)"
   ]
  },
  {
   "cell_type": "markdown",
   "id": "1f05dc61-7356-4e38-a3a3-648cd47ab627",
   "metadata": {
    "tags": []
   },
   "source": [
    "# 70. Explain the use of the @deleter decorator in Python property decorators. Provide a code example demonstrating its application.\n",
    "\n",
    "@deleter decorator is used to define a method that will be called when the property is deleted using the del statement."
   ]
  },
  {
   "cell_type": "code",
   "execution_count": 88,
   "id": "0581eed9-4092-4342-a7d8-ccb0c07a1d78",
   "metadata": {},
   "outputs": [
    {
     "name": "stdout",
     "output_type": "stream",
     "text": [
      "25\n",
      "Temperature deleted.\n"
     ]
    }
   ],
   "source": [
    "class Temperature:\n",
    "    def __init__(self, celsius):\n",
    "        self._celsius = celsius\n",
    "\n",
    "    @property\n",
    "    def celsius(self):\n",
    "        return self._celsius\n",
    "\n",
    "    @celsius.deleter\n",
    "    def celsius(self):\n",
    "        print(\"Temperature deleted.\")\n",
    "        del self._celsius\n",
    "\n",
    "temp = Temperature(25)\n",
    "print(temp.celsius)\n",
    "del temp.celsius"
   ]
  },
  {
   "cell_type": "markdown",
   "id": "a49c50e1-68be-4841-b183-f8b976d2111c",
   "metadata": {},
   "source": [
    "# 71. How does encapsulation relate to property decorators in Python? Provide an example showcasing encapsulation using property decorators.\n",
    "\n",
    "Encapsulation is a fundamental concept in object-oriented programming (OOP) that refers to bundling data (attributes) and methods (functions) that operate on the data into a single unit (a class), and controlling access to that unit to prevent accidental modification or misuse. In Python, property decorators are a way to implement encapsulation by providing controlled access to class attributes."
   ]
  },
  {
   "cell_type": "code",
   "execution_count": 89,
   "id": "d076b463-105b-4f17-987c-cc81ee08a09b",
   "metadata": {},
   "outputs": [
    {
     "name": "stdout",
     "output_type": "stream",
     "text": [
      "1000\n",
      "Balance cannot be negative\n",
      "1500\n"
     ]
    }
   ],
   "source": [
    "class BankAccount:\n",
    "    def __init__(self, balance=0):\n",
    "        self._balance = balance\n",
    "    \n",
    "    @property\n",
    "    def balance(self):\n",
    "        return self._balance\n",
    "    \n",
    "    @balance.setter\n",
    "    def balance(self, new_balance):\n",
    "        if new_balance < 0:\n",
    "            raise ValueError(\"Balance cannot be negative\")\n",
    "        else:\n",
    "            self._balance = new_balance\n",
    "\n",
    "account = BankAccount(1000)\n",
    "print(account.balance)\n",
    "try:\n",
    "    account.balance = -500\n",
    "except ValueError as e:\n",
    "    print(e)\n",
    "    \n",
    "account.balance = 1500\n",
    "print(account.balance)\n"
   ]
  }
 ],
 "metadata": {
  "kernelspec": {
   "display_name": "Python 3 (ipykernel)",
   "language": "python",
   "name": "python3"
  },
  "language_info": {
   "codemirror_mode": {
    "name": "ipython",
    "version": 3
   },
   "file_extension": ".py",
   "mimetype": "text/x-python",
   "name": "python",
   "nbconvert_exporter": "python",
   "pygments_lexer": "ipython3",
   "version": "3.10.8"
  }
 },
 "nbformat": 4,
 "nbformat_minor": 5
}
